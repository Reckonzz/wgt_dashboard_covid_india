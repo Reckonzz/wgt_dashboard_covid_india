{
 "cells": [
  {
   "cell_type": "code",
   "execution_count": 9,
   "id": "17aba361",
   "metadata": {},
   "outputs": [],
   "source": [
    "import dash\n",
    "import dash_core_components as dcc\n",
    "import dash_html_components as html\n",
    "import plotly.offline as pyo\n",
    "import plotly.graph_objs as go\n",
    "import numpy as np\n",
    "import pandas as pd"
   ]
  },
  {
   "cell_type": "code",
   "execution_count": 7,
   "id": "0d037ed6",
   "metadata": {},
   "outputs": [],
   "source": [
    "app = dash.Dash()"
   ]
  },
  {
   "cell_type": "code",
   "execution_count": 14,
   "id": "6afdef93",
   "metadata": {},
   "outputs": [
    {
     "data": {
      "text/plain": [
       "148"
      ]
     },
     "execution_count": 14,
     "metadata": {},
     "output_type": "execute_result"
    }
   ],
   "source": [
    "# filtering the data\n",
    "\n",
    "df = pd.read_csv(\"covid_vaccination.csv\")\n",
    "df_delhi = df[df[\"lgd_state_id\"] == 7]\n",
    "df_central = df_delhi[df_delhi[\"lgd_district_name\"] == \"central\"]\n",
    "len(df_central)"
   ]
  },
  {
   "cell_type": "code",
   "execution_count": 17,
   "id": "6eb75492",
   "metadata": {},
   "outputs": [
    {
     "data": {
      "text/plain": [
       "'temp-plot.html'"
      ]
     },
     "execution_count": 17,
     "metadata": {},
     "output_type": "execute_result"
    }
   ],
   "source": [
    "data = [go.Scatter(\n",
    "    x = df_delhi[\"date\"],\n",
    "    y = df_central[\"total_individuals_registered\"],\n",
    "    mode = 'markers',\n",
    "    marker = dict(\n",
    "        size = 12,\n",
    "        color = 'rgb(51,204,153)',\n",
    "        symbol = 'pentagon',\n",
    "        line = dict(\n",
    "            width = 2,\n",
    "        )\n",
    "    )\n",
    ")]\n",
    "                  \n",
    "layout = go.Layout(\n",
    "    title = 'delhi covid data', \n",
    "    xaxis = dict(title = 'data'), \n",
    "    yaxis = dict(title = 'no. of individuals registered'), \n",
    "    hovermode ='closest'\n",
    ")\n",
    "fig = go.Figure(data=data, layout=layout)\n",
    "pyo.plot(fig)"
   ]
  },
  {
   "cell_type": "code",
   "execution_count": 3,
   "id": "40cfbf9e",
   "metadata": {},
   "outputs": [],
   "source": []
  },
  {
   "cell_type": "code",
   "execution_count": null,
   "id": "5d0a6d46",
   "metadata": {},
   "outputs": [],
   "source": []
  }
 ],
 "metadata": {
  "kernelspec": {
   "display_name": "Python 3",
   "language": "python",
   "name": "python3"
  },
  "language_info": {
   "codemirror_mode": {
    "name": "ipython",
    "version": 3
   },
   "file_extension": ".py",
   "mimetype": "text/x-python",
   "name": "python",
   "nbconvert_exporter": "python",
   "pygments_lexer": "ipython3",
   "version": "3.8.8"
  }
 },
 "nbformat": 4,
 "nbformat_minor": 5
}
